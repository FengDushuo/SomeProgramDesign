{
 "cells": [
  {
   "cell_type": "code",
   "execution_count": 1,
   "id": "4366e1bd-8be0-436f-ba82-55d09b049963",
   "metadata": {},
   "outputs": [],
   "source": [
    "# 步骤\n",
    "# 1.读取NPZ文件\n",
    "# 2.onehot 独热编码\n",
    "# 3.分为train和test数据\n",
    "# 4.搭建CNN模型\n",
    "# 5.训练模型\n",
    "# 6.保存模型"
   ]
  },
  {
   "cell_type": "code",
   "execution_count": 2,
   "id": "049b570c-a09e-4a9b-9fff-bdd812295cb4",
   "metadata": {},
   "outputs": [],
   "source": [
    "## 1.读取NPZ文件"
   ]
  },
  {
   "cell_type": "code",
   "execution_count": 3,
   "id": "1df10642-1fc6-48d7-9a46-72b1e68a05b6",
   "metadata": {},
   "outputs": [],
   "source": [
    "import numpy as np"
   ]
  },
  {
   "cell_type": "code",
   "execution_count": 4,
   "id": "edee3c07-1dd3-49c9-81c4-fbf795316eca",
   "metadata": {},
   "outputs": [],
   "source": [
    "arr = np.load('./data/imageData.npz')"
   ]
  },
  {
   "cell_type": "code",
   "execution_count": 5,
   "id": "7fec28da-81d9-4453-b21a-4fa5b8b3e427",
   "metadata": {},
   "outputs": [],
   "source": [
    "img_list = arr['arr_0']\n",
    "label_list =arr['arr_1']"
   ]
  },
  {
   "cell_type": "code",
   "execution_count": 6,
   "id": "8db3df74-d44a-404e-bcb9-702f11588f00",
   "metadata": {},
   "outputs": [
    {
     "data": {
      "text/plain": [
       "((7100, 100, 100, 3), (7100,))"
      ]
     },
     "execution_count": 6,
     "metadata": {},
     "output_type": "execute_result"
    }
   ],
   "source": [
    "img_list.shape,label_list.shape"
   ]
  },
  {
   "cell_type": "markdown",
   "id": "ff46ad27-63f2-4492-bb12-8934881e9945",
   "metadata": {},
   "source": [
    "## 2.onehot 独热编码"
   ]
  },
  {
   "cell_type": "code",
   "execution_count": 7,
   "id": "3769249f-9b91-4250-9f17-67c0c0995d51",
   "metadata": {},
   "outputs": [
    {
     "data": {
      "text/plain": [
       "array(['1.yes', '2.no', '3.nose'], dtype='<U6')"
      ]
     },
     "execution_count": 7,
     "metadata": {},
     "output_type": "execute_result"
    }
   ],
   "source": [
    "np.unique(label_list)"
   ]
  },
  {
   "cell_type": "code",
   "execution_count": 8,
   "id": "cbfff54f-b02d-469e-8dc4-7282be6e63a2",
   "metadata": {},
   "outputs": [],
   "source": [
    "from sklearn.preprocessing import OneHotEncoder\n"
   ]
  },
  {
   "cell_type": "code",
   "execution_count": 9,
   "id": "b2965ab6-26d5-4ac9-91b6-b8707f197e7b",
   "metadata": {},
   "outputs": [],
   "source": [
    "# 实例化\n",
    "onehot = OneHotEncoder()"
   ]
  },
  {
   "cell_type": "code",
   "execution_count": 10,
   "id": "cc2983b6-5777-463c-9a3c-23adedd41d66",
   "metadata": {},
   "outputs": [],
   "source": [
    "# 编码\n",
    "y_onehot =onehot.fit_transform(label_list.reshape(-1,1))"
   ]
  },
  {
   "cell_type": "code",
   "execution_count": 11,
   "id": "3e964de2-f0b2-464e-a72b-243a0a1aef72",
   "metadata": {},
   "outputs": [],
   "source": [
    "y_onehot_arr = y_onehot.toarray()"
   ]
  },
  {
   "cell_type": "code",
   "execution_count": 12,
   "id": "f0e3974c-7e1a-4518-96bc-46a71793a7c1",
   "metadata": {},
   "outputs": [
    {
     "data": {
      "text/plain": [
       "array([[1., 0., 0.],\n",
       "       [1., 0., 0.],\n",
       "       [1., 0., 0.],\n",
       "       ...,\n",
       "       [0., 0., 1.],\n",
       "       [0., 0., 1.],\n",
       "       [0., 0., 1.]])"
      ]
     },
     "execution_count": 12,
     "metadata": {},
     "output_type": "execute_result"
    }
   ],
   "source": [
    "y_onehot_arr"
   ]
  },
  {
   "cell_type": "markdown",
   "id": "a152a5c1-c329-4d4f-91e7-14f05d2dbaa0",
   "metadata": {},
   "source": [
    "## 3.分为train和test数据"
   ]
  },
  {
   "cell_type": "code",
   "execution_count": 13,
   "id": "bef69e15-0dec-4ac7-a699-7e21eb7ae451",
   "metadata": {},
   "outputs": [],
   "source": [
    "from sklearn.model_selection import train_test_split"
   ]
  },
  {
   "cell_type": "code",
   "execution_count": 14,
   "id": "0b5a62ed-a92a-46a3-9c47-88c764f21276",
   "metadata": {},
   "outputs": [],
   "source": [
    "x_train,x_test,y_train,y_test = train_test_split(img_list,y_onehot_arr,test_size=0.2,random_state=42)"
   ]
  },
  {
   "cell_type": "code",
   "execution_count": 15,
   "id": "f7eb3e66-1aef-4c89-b08a-f70788780d6d",
   "metadata": {},
   "outputs": [
    {
     "data": {
      "text/plain": [
       "((5680, 100, 100, 3), (1420, 100, 100, 3), (5680, 3), (1420, 3))"
      ]
     },
     "execution_count": 15,
     "metadata": {},
     "output_type": "execute_result"
    }
   ],
   "source": [
    "x_train.shape,x_test.shape,y_train.shape,y_test.shape"
   ]
  },
  {
   "cell_type": "markdown",
   "id": "9c823396-16c1-4946-8d4e-922b1f351cfa",
   "metadata": {},
   "source": [
    "## 4.搭建CNN模型"
   ]
  },
  {
   "cell_type": "code",
   "execution_count": 16,
   "id": "cfbfe43a-3963-438f-8e5b-2a822027cc58",
   "metadata": {},
   "outputs": [],
   "source": [
    "# pip install --upgrade tensorflow\n",
    "# pip install tensorflow-gpu==版本号  # GPU"
   ]
  },
  {
   "cell_type": "code",
   "execution_count": 17,
   "id": "9dcfbacd-7eb8-466c-b339-ce8725df1f15",
   "metadata": {},
   "outputs": [],
   "source": [
    "import tensorflow as tf\n",
    "from tensorflow.keras import layers\n",
    "from tensorflow.keras import Sequential"
   ]
  },
  {
   "cell_type": "code",
   "execution_count": 18,
   "id": "0951823d-e22b-44c4-a8be-3042f3d2776b",
   "metadata": {},
   "outputs": [],
   "source": [
    "# 搭建模型"
   ]
  },
  {
   "cell_type": "markdown",
   "id": "7746310b-5770-4203-a35f-1e54263fad34",
   "metadata": {},
   "source": [
    "![](./cnn.png)"
   ]
  },
  {
   "cell_type": "code",
   "execution_count": 19,
   "id": "553fb02b-e7ec-4086-b985-8c57bddb550f",
   "metadata": {},
   "outputs": [],
   "source": [
    "model = Sequential([\n",
    "    layers.Conv2D(16,3,padding='same',input_shape=(100,100,3),activation='relu'),\n",
    "    layers.MaxPool2D(),\n",
    "    layers.Conv2D(32,3,padding='same',activation='relu'),\n",
    "    layers.MaxPool2D(),\n",
    "    layers.Conv2D(64,3,padding='same',activation='relu'),\n",
    "    layers.MaxPool2D(),\n",
    "    layers.Flatten(),\n",
    "    layers.Dense(166,activation='relu'),\n",
    "    layers.Dense(22,activation='relu'),\n",
    "    layers.Dense(3,activation='sigmoid')\n",
    "])"
   ]
  },
  {
   "cell_type": "code",
   "execution_count": 20,
   "id": "273b64be-fc07-4e17-ba3d-d03ebc195ccf",
   "metadata": {},
   "outputs": [],
   "source": [
    "# 编译模型\n",
    "model.compile(optimizer=tf.keras.optimizers.Adam(learning_rate=0.001),loss=tf.keras.losses.categorical_crossentropy,metrics=['accuracy'])"
   ]
  },
  {
   "cell_type": "code",
   "execution_count": 21,
   "id": "0ed94637-ba79-4a16-a87b-b71dc0af06bd",
   "metadata": {},
   "outputs": [
    {
     "name": "stdout",
     "output_type": "stream",
     "text": [
      "Model: \"sequential\"\n",
      "_________________________________________________________________\n",
      "Layer (type)                 Output Shape              Param #   \n",
      "=================================================================\n",
      "conv2d (Conv2D)              (None, 100, 100, 16)      448       \n",
      "_________________________________________________________________\n",
      "max_pooling2d (MaxPooling2D) (None, 50, 50, 16)        0         \n",
      "_________________________________________________________________\n",
      "conv2d_1 (Conv2D)            (None, 50, 50, 32)        4640      \n",
      "_________________________________________________________________\n",
      "max_pooling2d_1 (MaxPooling2 (None, 25, 25, 32)        0         \n",
      "_________________________________________________________________\n",
      "conv2d_2 (Conv2D)            (None, 25, 25, 64)        18496     \n",
      "_________________________________________________________________\n",
      "max_pooling2d_2 (MaxPooling2 (None, 12, 12, 64)        0         \n",
      "_________________________________________________________________\n",
      "flatten (Flatten)            (None, 9216)              0         \n",
      "_________________________________________________________________\n",
      "dense (Dense)                (None, 166)               1530022   \n",
      "_________________________________________________________________\n",
      "dense_1 (Dense)              (None, 22)                3674      \n",
      "_________________________________________________________________\n",
      "dense_2 (Dense)              (None, 3)                 69        \n",
      "=================================================================\n",
      "Total params: 1,557,349\n",
      "Trainable params: 1,557,349\n",
      "Non-trainable params: 0\n",
      "_________________________________________________________________\n"
     ]
    }
   ],
   "source": [
    "# 预览模型\n",
    "model.summary()"
   ]
  },
  {
   "cell_type": "markdown",
   "id": "4e8e4aad-4567-4b44-a7ec-720c10f3364e",
   "metadata": {},
   "source": [
    "## 5.训练模型"
   ]
  },
  {
   "cell_type": "code",
   "execution_count": 22,
   "id": "f66045ec-fd08-4da9-a792-e8f19ef3fea9",
   "metadata": {},
   "outputs": [
    {
     "name": "stdout",
     "output_type": "stream",
     "text": [
      "Epoch 1/15\n",
      "190/190 [==============================] - 23s 112ms/step - loss: nan - accuracy: 0.3981 - val_loss: nan - val_accuracy: 0.3634\n",
      "Epoch 2/15\n",
      "190/190 [==============================] - 22s 114ms/step - loss: nan - accuracy: 0.3548 - val_loss: nan - val_accuracy: 0.3634\n",
      "Epoch 3/15\n",
      "190/190 [==============================] - 22s 113ms/step - loss: nan - accuracy: 0.3548 - val_loss: nan - val_accuracy: 0.3634\n",
      "Epoch 4/15\n",
      "190/190 [==============================] - 22s 113ms/step - loss: nan - accuracy: 0.3548 - val_loss: nan - val_accuracy: 0.3634\n",
      "Epoch 5/15\n",
      "190/190 [==============================] - 20s 105ms/step - loss: nan - accuracy: 0.3548 - val_loss: nan - val_accuracy: 0.3634\n",
      "Epoch 6/15\n",
      "190/190 [==============================] - 19s 101ms/step - loss: nan - accuracy: 0.3548 - val_loss: nan - val_accuracy: 0.3634\n",
      "Epoch 7/15\n",
      "190/190 [==============================] - 19s 100ms/step - loss: nan - accuracy: 0.3548 - val_loss: nan - val_accuracy: 0.3634\n",
      "Epoch 8/15\n",
      "190/190 [==============================] - 19s 101ms/step - loss: nan - accuracy: 0.3548 - val_loss: nan - val_accuracy: 0.3634\n",
      "Epoch 9/15\n",
      "190/190 [==============================] - 19s 101ms/step - loss: nan - accuracy: 0.3548 - val_loss: nan - val_accuracy: 0.3634\n",
      "Epoch 10/15\n",
      "190/190 [==============================] - 20s 105ms/step - loss: nan - accuracy: 0.3548 - val_loss: nan - val_accuracy: 0.3634\n",
      "Epoch 11/15\n",
      "190/190 [==============================] - 22s 116ms/step - loss: nan - accuracy: 0.3548 - val_loss: nan - val_accuracy: 0.3634\n",
      "Epoch 12/15\n",
      "190/190 [==============================] - 21s 112ms/step - loss: nan - accuracy: 0.3548 - val_loss: nan - val_accuracy: 0.3634\n",
      "Epoch 13/15\n",
      "190/190 [==============================] - 21s 112ms/step - loss: nan - accuracy: 0.3548 - val_loss: nan - val_accuracy: 0.3634\n",
      "Epoch 14/15\n",
      "190/190 [==============================] - 21s 112ms/step - loss: nan - accuracy: 0.3548 - val_loss: nan - val_accuracy: 0.3634\n",
      "Epoch 15/15\n",
      "190/190 [==============================] - 21s 112ms/step - loss: nan - accuracy: 0.3548 - val_loss: nan - val_accuracy: 0.3634\n"
     ]
    }
   ],
   "source": [
    "history = model.fit(x=x_train,y=y_train,validation_data=(x_test,y_test),batch_size=30,epochs=15)"
   ]
  },
  {
   "cell_type": "code",
   "execution_count": 23,
   "id": "aa6917ca-24a1-4467-9946-f630a10664de",
   "metadata": {},
   "outputs": [],
   "source": [
    "# 查看训练效果\n"
   ]
  },
  {
   "cell_type": "code",
   "execution_count": 24,
   "id": "d7862087-4d13-4815-89bd-dd27a03d44f5",
   "metadata": {},
   "outputs": [],
   "source": [
    "import pandas as pd\n",
    "import matplotlib.pyplot as plt\n",
    "%matplotlib inline"
   ]
  },
  {
   "cell_type": "code",
   "execution_count": 25,
   "id": "487ca255-a28c-417b-bb13-32afca6cfd59",
   "metadata": {},
   "outputs": [],
   "source": [
    "history_pd = pd.DataFrame(history.history)"
   ]
  },
  {
   "cell_type": "code",
   "execution_count": 26,
   "id": "b2bf613f-abcc-43e0-84f1-ce595fb5b8e7",
   "metadata": {},
   "outputs": [
    {
     "data": {
      "text/html": [
       "<div>\n",
       "<style scoped>\n",
       "    .dataframe tbody tr th:only-of-type {\n",
       "        vertical-align: middle;\n",
       "    }\n",
       "\n",
       "    .dataframe tbody tr th {\n",
       "        vertical-align: top;\n",
       "    }\n",
       "\n",
       "    .dataframe thead th {\n",
       "        text-align: right;\n",
       "    }\n",
       "</style>\n",
       "<table border=\"1\" class=\"dataframe\">\n",
       "  <thead>\n",
       "    <tr style=\"text-align: right;\">\n",
       "      <th></th>\n",
       "      <th>loss</th>\n",
       "      <th>accuracy</th>\n",
       "      <th>val_loss</th>\n",
       "      <th>val_accuracy</th>\n",
       "    </tr>\n",
       "  </thead>\n",
       "  <tbody>\n",
       "    <tr>\n",
       "      <th>0</th>\n",
       "      <td>NaN</td>\n",
       "      <td>0.398063</td>\n",
       "      <td>NaN</td>\n",
       "      <td>0.36338</td>\n",
       "    </tr>\n",
       "    <tr>\n",
       "      <th>1</th>\n",
       "      <td>NaN</td>\n",
       "      <td>0.354754</td>\n",
       "      <td>NaN</td>\n",
       "      <td>0.36338</td>\n",
       "    </tr>\n",
       "    <tr>\n",
       "      <th>2</th>\n",
       "      <td>NaN</td>\n",
       "      <td>0.354754</td>\n",
       "      <td>NaN</td>\n",
       "      <td>0.36338</td>\n",
       "    </tr>\n",
       "    <tr>\n",
       "      <th>3</th>\n",
       "      <td>NaN</td>\n",
       "      <td>0.354754</td>\n",
       "      <td>NaN</td>\n",
       "      <td>0.36338</td>\n",
       "    </tr>\n",
       "    <tr>\n",
       "      <th>4</th>\n",
       "      <td>NaN</td>\n",
       "      <td>0.354754</td>\n",
       "      <td>NaN</td>\n",
       "      <td>0.36338</td>\n",
       "    </tr>\n",
       "    <tr>\n",
       "      <th>5</th>\n",
       "      <td>NaN</td>\n",
       "      <td>0.354754</td>\n",
       "      <td>NaN</td>\n",
       "      <td>0.36338</td>\n",
       "    </tr>\n",
       "    <tr>\n",
       "      <th>6</th>\n",
       "      <td>NaN</td>\n",
       "      <td>0.354754</td>\n",
       "      <td>NaN</td>\n",
       "      <td>0.36338</td>\n",
       "    </tr>\n",
       "    <tr>\n",
       "      <th>7</th>\n",
       "      <td>NaN</td>\n",
       "      <td>0.354754</td>\n",
       "      <td>NaN</td>\n",
       "      <td>0.36338</td>\n",
       "    </tr>\n",
       "    <tr>\n",
       "      <th>8</th>\n",
       "      <td>NaN</td>\n",
       "      <td>0.354754</td>\n",
       "      <td>NaN</td>\n",
       "      <td>0.36338</td>\n",
       "    </tr>\n",
       "    <tr>\n",
       "      <th>9</th>\n",
       "      <td>NaN</td>\n",
       "      <td>0.354754</td>\n",
       "      <td>NaN</td>\n",
       "      <td>0.36338</td>\n",
       "    </tr>\n",
       "    <tr>\n",
       "      <th>10</th>\n",
       "      <td>NaN</td>\n",
       "      <td>0.354754</td>\n",
       "      <td>NaN</td>\n",
       "      <td>0.36338</td>\n",
       "    </tr>\n",
       "    <tr>\n",
       "      <th>11</th>\n",
       "      <td>NaN</td>\n",
       "      <td>0.354754</td>\n",
       "      <td>NaN</td>\n",
       "      <td>0.36338</td>\n",
       "    </tr>\n",
       "    <tr>\n",
       "      <th>12</th>\n",
       "      <td>NaN</td>\n",
       "      <td>0.354754</td>\n",
       "      <td>NaN</td>\n",
       "      <td>0.36338</td>\n",
       "    </tr>\n",
       "    <tr>\n",
       "      <th>13</th>\n",
       "      <td>NaN</td>\n",
       "      <td>0.354754</td>\n",
       "      <td>NaN</td>\n",
       "      <td>0.36338</td>\n",
       "    </tr>\n",
       "    <tr>\n",
       "      <th>14</th>\n",
       "      <td>NaN</td>\n",
       "      <td>0.354754</td>\n",
       "      <td>NaN</td>\n",
       "      <td>0.36338</td>\n",
       "    </tr>\n",
       "  </tbody>\n",
       "</table>\n",
       "</div>"
      ],
      "text/plain": [
       "    loss  accuracy  val_loss  val_accuracy\n",
       "0    NaN  0.398063       NaN       0.36338\n",
       "1    NaN  0.354754       NaN       0.36338\n",
       "2    NaN  0.354754       NaN       0.36338\n",
       "3    NaN  0.354754       NaN       0.36338\n",
       "4    NaN  0.354754       NaN       0.36338\n",
       "5    NaN  0.354754       NaN       0.36338\n",
       "6    NaN  0.354754       NaN       0.36338\n",
       "7    NaN  0.354754       NaN       0.36338\n",
       "8    NaN  0.354754       NaN       0.36338\n",
       "9    NaN  0.354754       NaN       0.36338\n",
       "10   NaN  0.354754       NaN       0.36338\n",
       "11   NaN  0.354754       NaN       0.36338\n",
       "12   NaN  0.354754       NaN       0.36338\n",
       "13   NaN  0.354754       NaN       0.36338\n",
       "14   NaN  0.354754       NaN       0.36338"
      ]
     },
     "execution_count": 26,
     "metadata": {},
     "output_type": "execute_result"
    }
   ],
   "source": [
    "history_pd"
   ]
  },
  {
   "cell_type": "code",
   "execution_count": 27,
   "id": "9b5521e2-0320-449d-a9ff-083372c0c9eb",
   "metadata": {},
   "outputs": [
    {
     "data": {
      "image/png": "[encoded data removed]",
      "text/plain": [
       "<Figure size 432x288 with 1 Axes>"
      ]
     },
     "metadata": {
      "needs_background": "light"
     },
     "output_type": "display_data"
    }
   ],
   "source": [
    "# 查看损失\n",
    "plt.plot(history_pd['loss'])\n",
    "plt.plot(history_pd['val_loss'])\n",
    "plt.title('Model loss')\n",
    "plt.xlabel('epoch')\n",
    "plt.ylabel('loss')\n",
    "plt.legend(['train set','test set'],loc='upper right')\n",
    "plt.show()"
   ]
  },
  {
   "cell_type": "code",
   "execution_count": 28,
   "id": "30768bb3-ecc7-4eef-8333-d7a986b70bf6",
   "metadata": {},
   "outputs": [
    {
     "data": {
      "image/png": "[encoded data removed]",
      "text/plain": [
       "<Figure size 432x288 with 1 Axes>"
      ]
     },
     "metadata": {
      "needs_background": "light"
     },
     "output_type": "display_data"
    }
   ],
   "source": [
    "# 查看准确率\n",
    "plt.plot(history_pd['accuracy'])\n",
    "plt.plot(history_pd['val_accuracy'])\n",
    "plt.title('Model accuracy')\n",
    "plt.xlabel('epoch')\n",
    "plt.ylabel('loss')\n",
    "plt.legend(['train set','test set'],loc='upper right')\n",
    "plt.show()"
   ]
  },
  {
   "cell_type": "markdown",
   "id": "cce3fb13-de9e-4638-9eff-4eda886e971e",
   "metadata": {},
   "source": [
    "## 6.保存模型"
   ]
  },
  {
   "cell_type": "code",
   "execution_count": 29,
   "id": "5b7c12a3-a075-4627-8f97-ba558b0d9082",
   "metadata": {},
   "outputs": [
    {
     "name": "stdout",
     "output_type": "stream",
     "text": [
      "INFO:tensorflow:Assets written to: ./data/face_mask_model\\assets\n"
     ]
    }
   ],
   "source": [
    "model.save('./data/face_mask_model')"
   ]
  }
 ],
 "metadata": {
  "kernelspec": {
   "display_name": "Python 3 (ipykernel)",
   "language": "python",
   "name": "python3"
  },
  "language_info": {
   "codemirror_mode": {
    "name": "ipython",
    "version": 3
   },
   "file_extension": ".py",
   "mimetype": "text/x-python",
   "name": "python",
   "nbconvert_exporter": "python",
   "pygments_lexer": "ipython3",
   "version": "3.6.8"
  }
 },
 "nbformat": 4,
 "nbformat_minor": 5
}
